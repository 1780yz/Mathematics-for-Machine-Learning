{
 "cells": [
  {
   "cell_type": "code",
   "execution_count": 1,
   "id": "02adfcc2",
   "metadata": {},
   "outputs": [
    {
     "name": "stdout",
     "output_type": "stream",
     "text": [
      "[1 4]\n"
     ]
    }
   ],
   "source": [
    "import numpy as np\n",
    "\n",
    "a = np.array([1, 2])\n",
    "b = np.array([1, 2])\n",
    "c = a * b\n",
    "print(c)"
   ]
  },
  {
   "cell_type": "code",
   "execution_count": 3,
   "id": "c9151522",
   "metadata": {},
   "outputs": [
    {
     "data": {
      "text/plain": [
       "-0.9899494936611665"
      ]
     },
     "execution_count": 3,
     "metadata": {},
     "output_type": "execute_result"
    }
   ],
   "source": [
    "val_cos = -7 / (5* np.sqrt(2))\n",
    "val_cos"
   ]
  },
  {
   "cell_type": "code",
   "execution_count": 5,
   "id": "0312f9d6",
   "metadata": {},
   "outputs": [
    {
     "data": {
      "text/plain": [
       "2.9996955989856287"
      ]
     },
     "execution_count": 5,
     "metadata": {},
     "output_type": "execute_result"
    }
   ],
   "source": [
    "np.arccos(val_cos)"
   ]
  },
  {
   "cell_type": "code",
   "execution_count": 6,
   "id": "3f4e4545",
   "metadata": {},
   "outputs": [
    {
     "data": {
      "text/plain": [
       "3.605551275463989"
      ]
     },
     "execution_count": 6,
     "metadata": {},
     "output_type": "execute_result"
    }
   ],
   "source": [
    "np.sqrt(13)"
   ]
  },
  {
   "cell_type": "code",
   "execution_count": 10,
   "id": "32f6b515",
   "metadata": {},
   "outputs": [
    {
     "data": {
      "text/plain": [
       "3.605551275463989"
      ]
     },
     "execution_count": 10,
     "metadata": {},
     "output_type": "execute_result"
    }
   ],
   "source": [
    "x = np.array([3, 4])\n",
    "y = np.array([1, 1])\n",
    "np.linalg.norm(x - y)"
   ]
  },
  {
   "cell_type": "code",
   "execution_count": 11,
   "id": "63cd4372",
   "metadata": {},
   "outputs": [],
   "source": [
    "import numpy as np\n",
    "\n",
    "def length(x):\n",
    "    \"\"\"Compute the length of a vector x here.\"\"\"\n",
    "    length_x = np.linalg.norm(x)\n",
    "    return length_x\n"
   ]
  },
  {
   "cell_type": "code",
   "execution_count": 13,
   "id": "62478508",
   "metadata": {},
   "outputs": [
    {
     "data": {
      "text/plain": [
       "5.0"
      ]
     },
     "execution_count": 13,
     "metadata": {},
     "output_type": "execute_result"
    }
   ],
   "source": [
    "x = np.array([3, 4])\n",
    "length(x)"
   ]
  },
  {
   "cell_type": "code",
   "execution_count": 17,
   "id": "14d6e0bd",
   "metadata": {},
   "outputs": [
    {
     "name": "stdout",
     "output_type": "stream",
     "text": [
      "-0.41871789467931186\n",
      "-0.41871789467931186\n",
      "2.002829357226812\n"
     ]
    }
   ],
   "source": [
    "x = np.array([1, 2, 3])\n",
    "y = np.array([-1, 0, 8])\n",
    "\n",
    "val_cos = np.dot(x - y, x) / (np.linalg.norm(x - y) * np.linalg.norm(x))\n",
    "val_cos_naive = -9 / (np.sqrt(33)*np.sqrt(14))\n",
    "print(val_cos)\n",
    "print(val_cos_naive)\n",
    "print(np.arccos(val_cos))"
   ]
  }
 ],
 "metadata": {
  "kernelspec": {
   "display_name": "Python 3",
   "language": "python",
   "name": "python3"
  },
  "language_info": {
   "codemirror_mode": {
    "name": "ipython",
    "version": 3
   },
   "file_extension": ".py",
   "mimetype": "text/x-python",
   "name": "python",
   "nbconvert_exporter": "python",
   "pygments_lexer": "ipython3",
   "version": "3.6.13"
  }
 },
 "nbformat": 4,
 "nbformat_minor": 5
}
