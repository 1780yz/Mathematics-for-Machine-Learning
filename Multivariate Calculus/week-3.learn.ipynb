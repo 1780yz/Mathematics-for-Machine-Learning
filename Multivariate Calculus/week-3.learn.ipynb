{
 "cells": [
  {
   "cell_type": "code",
   "execution_count": 2,
   "id": "b29c2cfd",
   "metadata": {},
   "outputs": [],
   "source": [
    "import numpy as np"
   ]
  },
  {
   "cell_type": "code",
   "execution_count": 18,
   "id": "fb3f1b74",
   "metadata": {},
   "outputs": [
    {
     "name": "stdout",
     "output_type": "stream",
     "text": [
      "a1(0): -0.09966799462495582\n",
      "a1(1): 0.8336546070121552\n",
      "err_x=0: 1.209269698402472\n",
      "err_x=1: 0.694980003792591\n"
     ]
    }
   ],
   "source": [
    "sigma = np.tanh\n",
    "# w1 = -5\n",
    "# b1 = 5\n",
    "w1 = 1.3\n",
    "b1 = -0.1\n",
    "\n",
    "def a1(a0):\n",
    "    return sigma(w1 * a0 + b1)\n",
    "\n",
    "print('a1(0):', a1(0))\n",
    "print('a1(1):', a1(1))\n",
    "\n",
    "print('err_x=0:', (a1(0) - 1) ** 2)\n",
    "print('err_x=1:', (a1(1) - 0) ** 2)\n"
   ]
  },
  {
   "cell_type": "code",
   "execution_count": 20,
   "id": "7d0547e3",
   "metadata": {},
   "outputs": [
    {
     "data": {
      "text/plain": [
       "array([ 0.76159416, -0.76159416])"
      ]
     },
     "execution_count": 20,
     "metadata": {},
     "output_type": "execute_result"
    }
   ],
   "source": [
    "sigma = np.tanh\n",
    "W = np.array([[-2, 4, -1],\n",
    "              [6, 0, -3]])\n",
    "b = np.array([0.1, -2.5])\n",
    "\n",
    "x = np.array([0.3, 0.4, 0.1])\n",
    "\n",
    "a1 = sigma(W @ x + b)\n",
    "a1"
   ]
  },
  {
   "cell_type": "code",
   "execution_count": 22,
   "id": "8d5f2603",
   "metadata": {},
   "outputs": [
    {
     "name": "stdout",
     "output_type": "stream",
     "text": [
      "dCdw(w1, b1, x, y): -0.0\n",
      "dCdb(w1, b1, x, y): -1.1186026425530913\n"
     ]
    }
   ],
   "source": [
    "sigma = np.tanh\n",
    "\n",
    "def a1(w1, b1, a0):\n",
    "    z = w1 * a0 + b1\n",
    "    return sigma(z)\n",
    "\n",
    "def C(w1, b1, x, y):\n",
    "    return (a1(w1, b1, x) - y) ** 2\n",
    "\n",
    "def dCdw (w1, b1, x, y):\n",
    "    z = w1 * x + b1\n",
    "    \n",
    "    dCda = 2 * (a1(w1, b1, x) - y)\n",
    "    dadz = 1 / (np.cosh(z) ** 2)\n",
    "    dzdw = x\n",
    "    return dCda * dadz * dzdw\n",
    "\n",
    "def dCdb(w1, b1, x, y):\n",
    "    z = w1 * x + b1\n",
    "    \n",
    "    dCda = 2 * (a1(w1, b1, x) - y)\n",
    "    dadz = 1 / (np.cosh(z) ** 2)\n",
    "    dzdb = 1\n",
    "    return dCda * dadz * dzdb\n",
    "\n",
    "w1 = 2.3\n",
    "b1 = -1.2\n",
    "x = 0\n",
    "y = 1\n",
    "print('dCdw(w1, b1, x, y):', dCdw(w1, b1, x, y))\n",
    "print('dCdb(w1, b1, x, y):', dCdb(w1, b1, x, y))\n"
   ]
  },
  {
   "cell_type": "code",
   "execution_count": 26,
   "id": "6c6c2480",
   "metadata": {},
   "outputs": [
    {
     "name": "stdout",
     "output_type": "stream",
     "text": [
      "x:  [0.7 0.6 0.2] y:  [0.9 0.6] C:  1.7788340952508743\n"
     ]
    }
   ],
   "source": [
    "sigma = np.tanh\n",
    "\n",
    "W = np.array([[-0.94529712, -0.2667356, -0.91219181],\n",
    "              [ 2.05529992,  1.21797092, 0.22914497]])\n",
    "\n",
    "b = np.array([0.61273249, 1.6422662])\n",
    "\n",
    "def a1(a0):\n",
    "    z = W @ a0 + b\n",
    "    return sigma(z)\n",
    "\n",
    "# x = np.array([0.1, 0.5, 0.6])\n",
    "# y = np.array([0.25, 0.75])\n",
    "\n",
    "x = np.array([0.7, 0.6, 0.2])\n",
    "y = np.array([0.9, 0.6])\n",
    "\n",
    "d = a1(x) - y\n",
    "C = d @ d\n",
    "\n",
    "print('x: ', x, 'y: ', y, 'C: ', C)\n",
    "# x:  [0.1 0.5 0.6] y:  [0.25 0.75] C:  0.22604860306887117\n",
    "# x:  [0.7 0.6 0.2] y:  [0.9 0.6] C:  1.7788340952508743\n"
   ]
  }
 ],
 "metadata": {
  "kernelspec": {
   "display_name": "Python 3 (ipykernel)",
   "language": "python",
   "name": "python3"
  },
  "language_info": {
   "codemirror_mode": {
    "name": "ipython",
    "version": 3
   },
   "file_extension": ".py",
   "mimetype": "text/x-python",
   "name": "python",
   "nbconvert_exporter": "python",
   "pygments_lexer": "ipython3",
   "version": "3.7.13"
  }
 },
 "nbformat": 4,
 "nbformat_minor": 5
}
