{
 "cells": [
  {
   "cell_type": "code",
   "execution_count": 1,
   "id": "eabd7e66",
   "metadata": {},
   "outputs": [],
   "source": [
    "# https://math.stackexchange.com/questions/4431700/need-to-analytically-proof-a-fomula-for-variance-induction\n",
    "\n",
    "import numpy as np\n"
   ]
  },
  {
   "cell_type": "code",
   "execution_count": 7,
   "id": "121473ce",
   "metadata": {},
   "outputs": [],
   "source": [
    "D4 = np.array([1, 2, 3, 2])\n",
    "D5 = np.append(D4, [2])"
   ]
  },
  {
   "cell_type": "code",
   "execution_count": 10,
   "id": "98cf7e85",
   "metadata": {},
   "outputs": [
    {
     "name": "stdout",
     "output_type": "stream",
     "text": [
      "[1 2 3 2]\n",
      "[1 2 3 2 2]\n",
      "0.5\n",
      "0.4\n"
     ]
    }
   ],
   "source": [
    "print(D4)\n",
    "print(D5)\n",
    "print(np.var(D4))\n",
    "print(np.var(D5))"
   ]
  },
  {
   "cell_type": "code",
   "execution_count": 25,
   "id": "96c8bd08",
   "metadata": {},
   "outputs": [],
   "source": [
    "def optA(n, var_prev, exp_prev, exp, new):\n",
    "    var = (n-1)/n*var_prev + 1/n*(new - exp_prev)*(new - exp)\n",
    "    return var\n",
    "\n",
    "def optB(n, var_prev, exp_prev, exp, new):\n",
    "    var = (n-1)/n*var_prev + 1/(n-1)*(new - exp_prev)*(new - exp)\n",
    "    return var\n",
    "\n",
    "def optC(n, var_prev, exp_prev, exp, new):\n",
    "    var = (n-2)/(n-1)*var_prev + 1/n*(new - exp_prev)*(new - exp)\n",
    "    return var\n",
    "\n",
    "def optD(n, var_prev, exp_prev, exp, new):\n",
    "    var = (n-1)/n*var_prev + 1/n*(new - exp_prev)**2\n",
    "    return var\n"
   ]
  },
  {
   "cell_type": "code",
   "execution_count": 48,
   "id": "1f00d0ff",
   "metadata": {},
   "outputs": [
    {
     "name": "stdout",
     "output_type": "stream",
     "text": [
      "D: [1 2 3 2 3] var_prev: 0.5 exp_prev: 2.0 exp: 2.2 new: 3 var: 0.5599999999999999\n",
      "A: 0.56\n",
      "B: 0.6\n",
      "C: 0.5349999999999999\n",
      "D: 0.6000000000000001\n"
     ]
    }
   ],
   "source": [
    "D_prev = np.array([1, 2, 3, 2])\n",
    "new = 3\n",
    "D = np.append(D_prev, np.array([new]))\n",
    "\n",
    "var_prev = np.var(D_prev)\n",
    "exp_prev = np.mean(D_prev)\n",
    "var = np.var(D)\n",
    "exp = np.mean(D)\n",
    "n = D.size\n",
    "\n",
    "print(\"D:\", D, \"var_prev:\", var_prev, \"exp_prev:\", exp_prev, \"exp:\", exp, \"new:\", new, \"var:\", var)\n",
    "\n",
    "print(\"A:\", optA(n=n, var_prev=var_prev, exp_prev=exp_prev, exp=exp, new=new))\n",
    "print(\"B:\", optB(n=n, var_prev=var_prev, exp_prev=exp_prev, exp=exp, new=new))\n",
    "print(\"C:\", optC(n=n, var_prev=var_prev, exp_prev=exp_prev, exp=exp, new=new))\n",
    "print(\"D:\", optD(n=n, var_prev=var_prev, exp_prev=exp_prev, exp=exp, new=new))\n"
   ]
  },
  {
   "cell_type": "code",
   "execution_count": 33,
   "id": "69a68f4a",
   "metadata": {},
   "outputs": [
    {
     "data": {
      "text/plain": [
       "0.4"
      ]
     },
     "execution_count": 33,
     "metadata": {},
     "output_type": "execute_result"
    }
   ],
   "source": [
    "optA(n=5, var_prev=0.5, exp_prev=2, exp=2, new=2)"
   ]
  },
  {
   "cell_type": "code",
   "execution_count": 20,
   "id": "ab095ff8",
   "metadata": {},
   "outputs": [
    {
     "data": {
      "text/plain": [
       "0.4"
      ]
     },
     "execution_count": 20,
     "metadata": {},
     "output_type": "execute_result"
    }
   ],
   "source": [
    "optB(n=5, var_prev=0.5, exp_prev=2, exp=2, new=2)"
   ]
  },
  {
   "cell_type": "code",
   "execution_count": 23,
   "id": "9439c563",
   "metadata": {},
   "outputs": [
    {
     "data": {
      "text/plain": [
       "0.375"
      ]
     },
     "execution_count": 23,
     "metadata": {},
     "output_type": "execute_result"
    }
   ],
   "source": [
    "optC(n=5, var_prev=0.5, exp_prev=2, exp=2, new=2)"
   ]
  },
  {
   "cell_type": "code",
   "execution_count": 49,
   "id": "9574ae22",
   "metadata": {},
   "outputs": [
    {
     "data": {
      "text/plain": [
       "0.4"
      ]
     },
     "execution_count": 49,
     "metadata": {},
     "output_type": "execute_result"
    }
   ],
   "source": [
    "optD(n=5, var_prev=0.5, exp_prev=2, exp=2, new=2)"
   ]
  },
  {
   "cell_type": "code",
   "execution_count": 55,
   "id": "f66755b0",
   "metadata": {},
   "outputs": [],
   "source": [
    "import numpy as np\n",
    "\n",
    "def reshape(x):\n",
    "    \"\"\"return x_reshaped as the flatterned vector of the multi-dimensional array x\"\"\"\n",
    "    x_reshaped = x.flatten()\n",
    "    return x_reshaped\n",
    "\n",
    "x_2d = np.array([\n",
    "    [0, 1],\n",
    "    [2, 3]\n",
    "])"
   ]
  },
  {
   "cell_type": "code",
   "execution_count": 57,
   "id": "81cac01e",
   "metadata": {},
   "outputs": [
    {
     "name": "stdout",
     "output_type": "stream",
     "text": [
      "x_2d:\n",
      " [[0 1]\n",
      " [2 3]]\n",
      "x_1d:\n",
      " [0 1 2 3]\n",
      "x_1d:\n",
      " [0 1 2 3]\n"
     ]
    }
   ],
   "source": [
    "print(\"x_2d:\\n\", x_2d)\n",
    "\n",
    "x_1d = reshape(x_2d)\n",
    "print(\"x_1d:\\n\", x_1d)\n",
    "\n",
    "print(\"x_1d:\\n\", np.reshape(x_2d, (-1,)))"
   ]
  }
 ],
 "metadata": {
  "kernelspec": {
   "display_name": "Python 3",
   "language": "python",
   "name": "python3"
  },
  "language_info": {
   "codemirror_mode": {
    "name": "ipython",
    "version": 3
   },
   "file_extension": ".py",
   "mimetype": "text/x-python",
   "name": "python",
   "nbconvert_exporter": "python",
   "pygments_lexer": "ipython3",
   "version": "3.6.13"
  }
 },
 "nbformat": 4,
 "nbformat_minor": 5
}
