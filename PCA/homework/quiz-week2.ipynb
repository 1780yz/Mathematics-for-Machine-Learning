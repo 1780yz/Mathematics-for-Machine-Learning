{
 "cells": [
  {
   "cell_type": "code",
   "execution_count": 2,
   "id": "9142db36",
   "metadata": {},
   "outputs": [
    {
     "name": "stdout",
     "output_type": "stream",
     "text": [
      "[2.61803399 0.38196601]\n",
      "[[ 0.85065081  0.52573111]\n",
      " [-0.52573111  0.85065081]]\n"
     ]
    }
   ],
   "source": [
    "# Question 1:\n",
    "# To determine whether (x^T)*A*y is positive definite, we need to get\n",
    "# the eigenvalues of matrix A\n",
    "\n",
    "import numpy as np\n",
    "from numpy import linalg as la\n",
    "\n",
    "A = np.array([\n",
    "    [2, -1],\n",
    "    [-1, 1]\n",
    "])\n",
    "\n",
    "vals, vecs = la.eig(A)\n",
    "print(vals)\n",
    "print(vecs)\n",
    "# \n",
    "# as below, all the eigenvalues are positive\n",
    "# therefore, the matrix is positive definite\n",
    "# \n",
    "# [2.61803399 0.38196601]\n",
    "# [[ 0.85065081  0.52573111]\n",
    "#  [-0.52573111  0.85065081]]"
   ]
  },
  {
   "cell_type": "code",
   "execution_count": 3,
   "id": "682881e9",
   "metadata": {},
   "outputs": [],
   "source": [
    "# question 5\n",
    "# For any two fectors, x, y, write a short peice of code that defines a valid inner product.\n",
    "\n",
    "import numpy as np\n",
    "\n",
    "def dot(a, b):\n",
    "    \"\"\"Compute dot product between a and b.\n",
    "    Args:\n",
    "      a, b: (2,) ndarray as R^2 vectors\n",
    "      \n",
    "    Returns:\n",
    "      a number which is the dot produt between a, b\n",
    "    \"\"\"\n",
    "    \n",
    "    # dot_product = a[0]*b[0] + a[1]*b[1]\n",
    "    dot_product = np.dot(a, b)\n",
    "    \n",
    "    return dot_product"
   ]
  },
  {
   "cell_type": "code",
   "execution_count": 4,
   "id": "ac3503cf",
   "metadata": {},
   "outputs": [
    {
     "name": "stdout",
     "output_type": "stream",
     "text": [
      "0\n"
     ]
    }
   ],
   "source": [
    "# Test your code:\n",
    "\n",
    "a = np.array([1, 0])\n",
    "b = np.array([0, 1])\n",
    "\n",
    "print(dot(a,b))\n"
   ]
  },
  {
   "cell_type": "code",
   "execution_count": 5,
   "id": "c77cba41",
   "metadata": {},
   "outputs": [
    {
     "data": {
      "text/plain": [
       "2.23606797749979"
      ]
     },
     "execution_count": 5,
     "metadata": {},
     "output_type": "execute_result"
    }
   ],
   "source": [
    "# quiz:\n",
    "np.sqrt(5)"
   ]
  },
  {
   "cell_type": "code",
   "execution_count": 9,
   "id": "348205d4",
   "metadata": {},
   "outputs": [
    {
     "name": "stdout",
     "output_type": "stream",
     "text": [
      "[[1 2]\n",
      " [3 4]]\n",
      "[1 3]\n",
      "[2 4]\n",
      "0\n",
      "1\n",
      "2\n",
      "3\n",
      "4\n",
      "5\n",
      "6\n",
      "7\n",
      "8\n",
      "9\n"
     ]
    }
   ],
   "source": [
    "A = np.array([\n",
    "    [1, 2],\n",
    "    [3, 4]\n",
    "])\n",
    "print(A)\n",
    "# iterate over all columns of a matrix\n",
    "for column in A.T:\n",
    "    print(column)\n",
    "\n",
    "for i in range(10):\n",
    "    print(i)\n"
   ]
  }
 ],
 "metadata": {
  "kernelspec": {
   "display_name": "Python 3",
   "language": "python",
   "name": "python3"
  },
  "language_info": {
   "codemirror_mode": {
    "name": "ipython",
    "version": 3
   },
   "file_extension": ".py",
   "mimetype": "text/x-python",
   "name": "python",
   "nbconvert_exporter": "python",
   "pygments_lexer": "ipython3",
   "version": "3.6.13"
  }
 },
 "nbformat": 4,
 "nbformat_minor": 5
}
