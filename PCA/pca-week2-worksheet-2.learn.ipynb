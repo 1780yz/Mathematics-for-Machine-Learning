{
 "cells": [
  {
   "cell_type": "code",
   "execution_count": 7,
   "id": "ddb7de0a",
   "metadata": {},
   "outputs": [
    {
     "name": "stdout",
     "output_type": "stream",
     "text": [
      "[[1]\n",
      " [1]]\n",
      "[[-1]\n",
      " [ 1]]\n"
     ]
    }
   ],
   "source": [
    "import numpy as np\n",
    "\n",
    "x = np.transpose(np.array([[1, 1]]))\n",
    "y = np.transpose(np.array([[-1, 1]]))\n",
    "\n",
    "print(x)\n",
    "print(y)"
   ]
  },
  {
   "cell_type": "code",
   "execution_count": 9,
   "id": "b1d58c77",
   "metadata": {},
   "outputs": [
    {
     "name": "stdout",
     "output_type": "stream",
     "text": [
      "[[ 2 -1]\n",
      " [-1  4]]\n"
     ]
    }
   ],
   "source": [
    "A = np.array([\n",
    "    [2, -1],\n",
    "    [-1, 4]\n",
    "])\n",
    "print(A)"
   ]
  },
  {
   "cell_type": "code",
   "execution_count": 11,
   "id": "932638c2",
   "metadata": {},
   "outputs": [
    {
     "name": "stdout",
     "output_type": "stream",
     "text": [
      "[[2]]\n"
     ]
    }
   ],
   "source": [
    "dot_prod = np.transpose(x) @ A @ y\n",
    "print(dot_prod)"
   ]
  },
  {
   "cell_type": "code",
   "execution_count": 14,
   "id": "b2c706b1",
   "metadata": {},
   "outputs": [
    {
     "name": "stdout",
     "output_type": "stream",
     "text": [
      "[[1.]]\n"
     ]
    }
   ],
   "source": [
    "cos_val = dot_prod / (np.linalg.norm(x) * np.linalg.norm(y))\n",
    "print(cos_val)"
   ]
  },
  {
   "cell_type": "code",
   "execution_count": 16,
   "id": "a330dcac",
   "metadata": {},
   "outputs": [
    {
     "name": "stdout",
     "output_type": "stream",
     "text": [
      "[[2.10734243e-08]]\n"
     ]
    }
   ],
   "source": [
    "print(np.arccos(cos_val))"
   ]
  },
  {
   "cell_type": "code",
   "execution_count": 17,
   "id": "0831a040",
   "metadata": {},
   "outputs": [
    {
     "data": {
      "text/plain": [
       "0.3623577544766736"
      ]
     },
     "execution_count": 17,
     "metadata": {},
     "output_type": "execute_result"
    }
   ],
   "source": [
    "np.cos(1.2)"
   ]
  },
  {
   "cell_type": "code",
   "execution_count": 20,
   "id": "60099a32",
   "metadata": {},
   "outputs": [
    {
     "name": "stdout",
     "output_type": "stream",
     "text": [
      "0.35355339059327373\n"
     ]
    }
   ],
   "source": [
    "cos_val_naive = 2 / (2 * 2*np.sqrt(2))\n",
    "print(cos_val_naive)"
   ]
  },
  {
   "cell_type": "code",
   "execution_count": 22,
   "id": "c04fc95c",
   "metadata": {},
   "outputs": [
    {
     "name": "stdout",
     "output_type": "stream",
     "text": [
      "1.2094292028881888\n"
     ]
    }
   ],
   "source": [
    "print(np.arccos(cos_val_naive))"
   ]
  },
  {
   "cell_type": "code",
   "execution_count": 26,
   "id": "278533dd",
   "metadata": {},
   "outputs": [
    {
     "name": "stdout",
     "output_type": "stream",
     "text": [
      "[[5 4]]\n",
      "[[5]\n",
      " [4]]\n"
     ]
    }
   ],
   "source": [
    "import numpy as np\n",
    "\n",
    "a_origin = np.array([5,4])\n",
    "\n",
    "a = a_origin[np.newaxis]\n",
    "print(a)\n",
    "print(a.T)"
   ]
  },
  {
   "cell_type": "code",
   "execution_count": 28,
   "id": "3e547a54",
   "metadata": {},
   "outputs": [
    {
     "name": "stdout",
     "output_type": "stream",
     "text": [
      "[[2]]\n"
     ]
    }
   ],
   "source": [
    "def inner_product(x, y, A):\n",
    "    x = x[np.newaxis].T\n",
    "    y = y[np.newaxis].T\n",
    "    prod = x.T @ A @ y\n",
    "    return prod\n",
    "\n",
    "# Test\n",
    "x = np.array([1, 1])\n",
    "y = np.array([-1, 1])\n",
    "A = np.array([\n",
    "    [2, -1],\n",
    "    [-1, 4]\n",
    "])\n",
    "\n",
    "print(inner_product(x, y, A))"
   ]
  },
  {
   "cell_type": "code",
   "execution_count": 34,
   "id": "d07b5f51",
   "metadata": {},
   "outputs": [
    {
     "name": "stdout",
     "output_type": "stream",
     "text": [
      "eigen A: (array([0.93844719, 5.06155281]), array([[-0.99250756,  0.12218326],\n",
      "       [-0.12218326, -0.99250756]]))\n",
      "cos_val: [[-0.9]]\n",
      "[[2.69056584]]\n"
     ]
    }
   ],
   "source": [
    "x = np.array([0, -1])\n",
    "y = np.array([1, 1])\n",
    "A = np.array([\n",
    "    [1, -1/2],\n",
    "    [-1/2, 5]\n",
    "])\n",
    "\n",
    "print(\"eigen A:\", np.linalg.eig(A))\n",
    "\n",
    "cos_val = inner_product(x, y, A) / np.sqrt(inner_product(x,x,A)*inner_product(y,y,A))\n",
    "print(\"cos_val:\", cos_val)\n",
    "print(np.arccos(cos_val))"
   ]
  },
  {
   "cell_type": "code",
   "execution_count": 36,
   "id": "890f2a08",
   "metadata": {},
   "outputs": [
    {
     "name": "stdout",
     "output_type": "stream",
     "text": [
      "cos_val: [[-1.]]\n",
      "[[3.14159265]]\n"
     ]
    }
   ],
   "source": [
    "x = np.array([2, 2])\n",
    "y = np.array([-2, -2])\n",
    "A = np.array([\n",
    "    [2, 1],\n",
    "    [1, 4]\n",
    "])\n",
    "\n",
    "cos_val = inner_product(x, y, A) / np.sqrt(inner_product(x,x,A)*inner_product(y,y,A))\n",
    "print(\"cos_val:\", cos_val)\n",
    "print(np.arccos(cos_val))"
   ]
  },
  {
   "cell_type": "code",
   "execution_count": 38,
   "id": "bfec0002",
   "metadata": {},
   "outputs": [
    {
     "name": "stdout",
     "output_type": "stream",
     "text": [
      "cos_val: [[-0.66666667]]\n",
      "[[2.30052398]]\n"
     ]
    }
   ],
   "source": [
    "x = np.array([1, 1])\n",
    "y = np.array([1, -1])\n",
    "A = np.array([\n",
    "    [1, 0],\n",
    "    [0, 5]\n",
    "])\n",
    "\n",
    "cos_val = inner_product(x, y, A) / np.sqrt(inner_product(x,x,A)*inner_product(y,y,A))\n",
    "print(\"cos_val:\", cos_val)\n",
    "print(np.arccos(cos_val))"
   ]
  },
  {
   "cell_type": "code",
   "execution_count": 40,
   "id": "62c6f900",
   "metadata": {},
   "outputs": [
    {
     "name": "stdout",
     "output_type": "stream",
     "text": [
      "cos_val: [[0.20412415]]\n",
      "[[1.3652274]]\n"
     ]
    }
   ],
   "source": [
    "x = np.array([1, 1, 1])\n",
    "y = np.array([2, -1, 0])\n",
    "A = np.array([\n",
    "    [1, 0, 0],\n",
    "    [0, 2, -1],\n",
    "    [0, -1, 3]\n",
    "])\n",
    "\n",
    "cos_val = inner_product(x, y, A) / np.sqrt(inner_product(x,x,A)*inner_product(y,y,A))\n",
    "print(\"cos_val:\", cos_val)\n",
    "print(np.arccos(cos_val))"
   ]
  },
  {
   "cell_type": "code",
   "execution_count": 44,
   "id": "678f9ebb",
   "metadata": {},
   "outputs": [
    {
     "name": "stdout",
     "output_type": "stream",
     "text": [
      "cos_val: [[-0.33333333]]\n",
      "rad: [[1.91063324]]\n",
      "deg: [[109.47122063]]\n"
     ]
    }
   ],
   "source": [
    "x = np.array([1, 1])\n",
    "y = np.array([-1, 1])\n",
    "A = np.array([\n",
    "    [2, 0],\n",
    "    [0, 1]\n",
    "])\n",
    "\n",
    "cos_val = inner_product(x,y,A) / np.sqrt(inner_product(x,x,A)*inner_product(y,y,A))\n",
    "print(\"cos_val:\", cos_val)\n",
    "rad = np.arccos(cos_val)\n",
    "deg = np.degrees(rad)\n",
    "print(\"rad:\", rad)\n",
    "print(\"deg:\", deg)\n"
   ]
  }
 ],
 "metadata": {
  "kernelspec": {
   "display_name": "Python 3",
   "language": "python",
   "name": "python3"
  },
  "language_info": {
   "codemirror_mode": {
    "name": "ipython",
    "version": 3
   },
   "file_extension": ".py",
   "mimetype": "text/x-python",
   "name": "python",
   "nbconvert_exporter": "python",
   "pygments_lexer": "ipython3",
   "version": "3.6.13"
  }
 },
 "nbformat": 4,
 "nbformat_minor": 5
}
